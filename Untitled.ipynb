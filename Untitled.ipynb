{
 "cells": [
  {
   "cell_type": "code",
   "execution_count": 1,
   "id": "d084a8ec-5dee-4fa8-a2d9-5f216d8052dd",
   "metadata": {},
   "outputs": [
    {
     "name": "stdout",
     "output_type": "stream",
     "text": [
      "Note: you may need to restart the kernel to use updated packages.\n"
     ]
    }
   ],
   "source": [
    "pip install -qU langchain_community beautifulsoup4"
   ]
  },
  {
   "cell_type": "code",
   "execution_count": 2,
   "id": "c0f5cd12-c147-4ac6-9b10-aac0bc871cec",
   "metadata": {},
   "outputs": [
    {
     "name": "stdout",
     "output_type": "stream",
     "text": [
      "India, officially known as the Republic of India, is a country in South Asia. It is the seventh-largest country by land area, the second-most populous country, and the most populous democracy in the world. Here are some key facts about India:\n",
      "\n",
      "**Geography and Climate:**\n",
      "\n",
      "* India is bounded by the Himalayan Mountains to the north, the Arabian Sea to the west, the Bay of Bengal to the east, and the Indian Ocean to the south.\n",
      "* The country has a diverse geography, with mountains, valleys, deserts, and coastlines along the Arabian Sea and the Bay of Bengal.\n",
      "* India has a tropical climate, with four main seasons: winter (December to February), summer (March to May), monsoon (June to September), and autumn (October to November).\n",
      "\n",
      "**Culture and History:**\n",
      "\n",
      "* India has a rich cultural heritage, with a history dating back to the Indus Valley Civilization (3300-1300 BCE).\n",
      "* The country has been influenced by various cultures, including the Vedic period, the Mauryan Empire, the Mughal Empire, and the British Raj.\n",
      "* India is home to many ancient and historical sites, including the Taj Mahal, the Red Fort, and the Varanasi Ghats.\n",
      "* Indian culture is known for its vibrant festivals, music, dance, and art, including classical music, folk music, and Bollywood films.\n",
      "\n",
      "**Economy and Industry:**\n",
      "\n",
      "* India is the world's fifth-largest economy, with a GDP of over $2.7 trillion.\n",
      "* The country has a diverse economy, with major industries including textiles, IT, pharmaceuticals, and automotive manufacturing.\n",
      "* India is also a major agricultural producer, with crops including rice, wheat, cotton, and tea.\n",
      "* The country has a growing service sector, with many multinational companies setting up operations in India.\n",
      "\n",
      "**Demographics and Language:**\n",
      "\n",
      "* India has a population of over 1.38 billion people, with a diverse range of ethnic groups, languages, and cultures.\n",
      "* The official language of India is Hindi, but there are 22 recognized languages, including English, which is widely spoken.\n",
      "* The majority of Indians (79.8%) practice Hinduism, followed by Islam (14.2%), Christianity (2.3%), and other faiths.\n",
      "\n",
      "**Places to Visit:**\n",
      "\n",
      "* The Taj Mahal (Agra)\n",
      "* The Red Fort (Delhi)\n",
      "* The Varanasi Ghats (Varanasi)\n",
      "* The Golden Temple (Amritsar)\n",
      "* The beaches of Goa\n",
      "* The backwaters of Kerala\n",
      "* The Himalayan Mountains (Himachal Pradesh, Uttarakhand, and Jammu and Kashmir)\n",
      "\n",
      "**Cuisine:**\n",
      "\n",
      "* Indian cuisine is known for its rich flavors, spices, and variety.\n",
      "* Popular dishes include curries, tandoori chicken, naan bread, and biryani.\n",
      "* India is also famous for its street food, including chaat, kebabs, and vada pav.\n",
      "\n",
      "**Festivals and Celebrations:**\n",
      "\n",
      "* Diwali (Festival of Lights)\n",
      "* Holi (Festival of Colors)\n",
      "* Navratri (Festival of Nine Nights)\n",
      "* Dussehra (Festival of Victory)\n",
      "* Eid al-Fitr (Festival of Breaking the Fast)\n",
      "* Christmas (Festival of Joy)\n",
      "\n",
      "**Challenges and Opportunities:**\n",
      "\n",
      "* India faces many challenges, including poverty, inequality, and environmental degradation.\n",
      "* The country also has many opportunities, including a growing economy, a young population, and a rapidly expanding middle class.\n",
      "* India is also a leader in the field of technology, with many startups and innovation hubs.\n",
      "\n",
      "Overall, India is a vibrant and diverse country, with a rich history, culture, and natural beauty.\n"
     ]
    }
   ],
   "source": [
    "from langchain_groq import ChatGroq\n",
    "\n",
    "llm = ChatGroq(\n",
    "    \n",
    "    temperature=0,\n",
    "    groq_api_key='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',\n",
    "    model_name = \"llama-3.1-70b-versatile\"\n",
    ")\n",
    "response = llm.invoke('tell me about india')\n",
    "print(response.content)"
   ]
  },
  {
   "cell_type": "code",
   "execution_count": 42,
   "id": "7aaa7562-848e-426f-a8cf-e587bd1d4d00",
   "metadata": {},
   "outputs": [
    {
     "name": "stdout",
     "output_type": "stream",
     "text": [
      "Apply for Director - AI/ML Engineering\n",
      "\n",
      "Search JobsSkip navigationSearch JobsNIKE, INC. JOBSContract JobsJoin The Talent CommunityLife @ NikeOverviewBenefitsBrandsOverviewJordanConverseTeamsOverviewAdministrative SupportAdvanced InnovationAir Manufacturing InnovationAviationCommunicationsCustomer ServiceDesignDigitalFacilitiesFinance & AccountingGovernment & Public AffairsHuman ResourcesInsights & AnalyticsLegalManufacturing & EngineeringMarketingMerchandisingPlanningPrivacyProcurementProduct Creation, Development & ManagementRetail CorporateRetail StoresSalesSocial & Community ImpactSports MarketingStrategic PlanningSupply Chain, Distribution & LogisticsSustainabilityTechnologyLocationsOverviewNike WHQNike New York HQEHQ: Hilversum, The NetherlandsELC: Laakdal, BelgiumGreater China HQDiversity, Equity & InclusionOverviewMilitary InclusionDisability InclusionIndigenous InclusionInternshipsData & AnalyticsDirector - AI/ML EngineeringBeaverton, OregonBecome a Part of the NIKE, Inc. Team\n",
      "NIKE, Inc. does more than outfit the world’s best athletes. It is a place to explore potential, obliterate boundaries and push out the edges of what can be. The company looks for people who can grow, think, dream and create. Its culture thrives by embracing diversity and rewarding imagination. The brand seeks achievers, leaders and visionaries. At NIKE, Inc. it’s about each person bringing skills and passion to a challenging and constantly evolving game.Open to remote work except in South Dakota, Vermont and West Virginia.The annual base salary for this position ranges from $166,100.00 in our lowest geographic market to $392,700.00 in our highest geographic market. Actual salary will vary based on a candidate's location, qualifications, skills and experience.Information about benefits can be found here. NIKE, Inc. does more than outfit the world’s best athletes. It is a place to explore potential, obliterate boundaries and redefine what can be. We look for colleagues who can grow, think, dream and create. Our culture thrives by embracing diversity and rewarding imagination. The Nike brand seeks achievers, leaders and visionaries. At NIKE, Inc. it’s about each person bringing skills and passion to a challenging and constantly evolving game.  WHO WE ARE LOOKING FOR  Nike is looking for a seasoned Engineering leader who can lead and grow teams of machine learning engineers, data scientists, and software architects to deliver scalable machine learning and artificial intelligence solutions to customers across our business. As Director of AI/ML Engineering, you will be a cross-disciplinary (data/API/infra/infosec/ML) engineering leader for teams tasked with executing on the AI/ML organization’s charter. In this role you will be working at the intersection of machine learning and engineering (i.e., MLOps), leading teams to deliver innovative and high-quality services which power Nike’s supply chain. You will be a strong advocate for both engineering best practices (e.g. code reviews, unit testing) and also the adoption of new technologies (e.g. DataBricks, SageMaker, LLM optimization) which can help us move faster on our journey. In this way, you will be responsible for coaching engineers to continuously elevate their engineering skills and for growing their careers at Nike. WHO WILL YOU WORK WITH  Artificial Intelligence and Machine Learning (AI/ML) is one of the key groups within Data and Artificial Intelligence and we have been chartered to help scale machine learning across Nike.  We bring cross-disciplinary teams of data scientists and engineers to areas of the business which are early in their analytics journey. For areas of the business which are more mature and already have data science teams, we help scale machine learning by providing squads of engineers to maximize the velocity of those data science teams in delivering value to the business. Lastly, we work closely with our platform and architecture partners to develop capabilities which help machine learning scale easier at Nike (e.g. model management, A/B testing, feature stores).  This role reports directly to the Senior Director of AI/ML Engineering.  Essential Job FunctionsServe as part of a cross-functional leadership team to grow highly skilled, diverse engineering teams that deliver solutions which unlock machine learning for Nike.  Engage employees, assist the teams by removing roadblocks, and align efforts across Nike’s matrix to drive progress forward and always win as a team. Leverage your prior experience, knowledge of industry trends, and personal creativity to develop and drive new and innovative solutions which delight our customers in their mission to serve Athletes.Stay current with industry trends and recommend relevant technologies & products in the areas of analytics, machine learning, artificial intelligence, and data science  Given the rapid pace of change in technology and machine learning today, always be pushing the boundary of what’s possible and be on the offense always. Embrace and embody Nike’s core values (maxims) in your work and interactions with peers, stakeholders, and direct reports.  Model clarity and accountability as a leader of Nike. Communicate effectively, build trust and strong relationships across the company, do the right thing.Be a mentor to teams, individuals, and technical leaders to foster motivated contributors, collaborative stakeholders, and high performing teams.  Set high standards for engineering excellence, MLOPs, operational excellence, and drive innovation. Curiosity. WHAT YOU BRING TO NIKE A proven technical leader with deep knowledge and experience in delivering production grade software at scale. Able to dive deep into code and architecture to provide an informed opinion on benefits/trade-offs of different design choice. Comparable Bachelor’s Degree in computer science, software engineering, or applicable field (’s degree or Ph.D. preferred). 10+ years of experience across multiple roles in developing productionized code in software or data engineering, machine learning or a related field (experience delivering analytics and ML products preferred). 4+ years in a leadership or management role using Agile frameworks, processes, and team structures. Familiarity with ETL, ML, or analytics technologies such as Scikit-learn, Dask, Tensorflow, Kubeflow, Spark, EMR, or similar platforms and frameworks.  Must be able to meaningfully communicate, written, orally, and visually, technical topics with stakeholders and articulate the benefits and tradeoffs of each solution and connect them to business value. Fluency in the application of open-source technologies and the impact of standardized platforms. Ability to make build/buy decisions in the area of Data Science, AI, & ML. Must be able to articulate and evangelize MLOps, code management workflows, infrastructure as code, and the lifecycle of model development from experimentation to production and measurement.  This will include a deep knowledge of software architecture and engineering best practices, especially modern cloud computing stacks for deploying machine learning at scale. Strong skills in team leadership and building positive relationships across Product, Architecture, and Engineering, and ability to influence decisions and changes across loosely coupled teams. The habits of a constant learner. NIKE, Inc. is a growth company that looks for team members to grow with it. Nike offers a generous total rewards package, casual work environment, a diverse and inclusive culture, and an electric atmosphere for professional development. No matter the location, or the role, every Nike employee shares one galvanizing mission: To bring inspiration and innovation to every athlete* in the world. NIKE, Inc. is committed to employing a diverse workforce. Qualified applicants will receive consideration without regard to race, color, religion, sex, national origin, age, sexual orientation, gender identity, gender expression, veteran status, or disability. NIKE, Inc. is a growth company that looks for team members to grow with it. Nike offers a generous total rewards package, casual work environment, a diverse and inclusive culture, and an electric atmosphere for professional development. No matter the location, or the role, every Nike employee shares one galvanizing mission: To bring inspiration and innovation to every athlete* in the world.NIKE, Inc. is committed to employing a diverse workforce. Qualified applicants will receive consideration without regard to race, color, religion, sex, national origin, age, sexual orientation, gender identity, gender expression, veteran status, or disability.How We HireAt NIKE, Inc. we promise to provide a premium, inclusive, compelling and authentic candidate experience. Delivering on this promise means we allow you to be at your best — and to do that, you need to understand how the hiring process works. Transparency is key.\n",
      "\n",
      "* This overview explains our hiring process for corporate roles. Note there may be different hiring steps involved for non-corporate roles.Start nowBenefitsWhether it’s transportation or financial health, we continually invest in our employees to help them achieve greatness — inside and outside of work. All who work here should be able to realize their full potential.Employee Assistance ProgramEmployee Stock Purchase Plan (ESPP)HolidaysMedical PlanPaid Time Off (PTO)Product DiscountsSabbaticalsLearn moreGIFT CARDSPROMOTIONSFIND A STORESIGN UP FOR EMAILBECOME A MEMBERNIKE JOURNALSEND US FEEDBACKGET HELPGET HELPOrder StatusShipping and DeliveryReturnsPayment OptionsGift Cards BalanceContact UsABOUT NIKEABOUT NIKENewsCareersInvestorsPurposeSustainabilityUnited States© 2024 Nike, Inc. All Rights ReservedGuidesNike AdaptNike Air MaxNike FlyleatherNike ReactSpace HippieNike AirNike FlyEaseNike Free Nike VaporflyNike Air Force 1 Nike FlyknitNike JoyrideNike ZoomXTerms of SaleTerms of UseNike Privacy PolicyYour Privacy ChoicesCA Supply Chain Act\n"
     ]
    }
   ],
   "source": [
    "from langchain_community.document_loaders import WebBaseLoader\n",
    "\n",
    "loader = WebBaseLoader(\"https://jobs.nike.com/job/R-40984?from=job%20search%20funnel\")\n",
    "page_data=loader.load().pop().page_content\n",
    "print(page_data)"
   ]
  },
  {
   "cell_type": "code",
   "execution_count": 43,
   "id": "862e0547-05f0-458e-83d5-a6d00c015fea",
   "metadata": {},
   "outputs": [
    {
     "data": {
      "text/plain": [
       "str"
      ]
     },
     "execution_count": 43,
     "metadata": {},
     "output_type": "execute_result"
    }
   ],
   "source": [
    "from langchain_core.prompts import PromptTemplate\n",
    "\n",
    "prompt_extract = PromptTemplate.from_template(\n",
    "        \"\"\"\n",
    "        ### SCRAPED TEXT FROM WEBSITE:\n",
    "        {page_data}\n",
    "        ### INSTRUCTION:\n",
    "        The scraped text is from the career's page of a website.\n",
    "        Your job is to extract the job postings and return them in JSON format containing the \n",
    "        following keys: `role`, `experience`, `skills` and `description`.\n",
    "        Only return the valid JSON.\n",
    "        ### VALID JSON (NO PREAMBLE):    \n",
    "        \"\"\"\n",
    ")\n",
    "\n",
    "chain_extract = prompt_extract | llm \n",
    "res = chain_extract.invoke(input={'page_data':page_data})\n",
    "type(res.content)"
   ]
  },
  {
   "cell_type": "code",
   "execution_count": 44,
   "id": "f432cd33-7f2a-4e28-9378-0bbf4efa20f9",
   "metadata": {},
   "outputs": [
    {
     "name": "stdout",
     "output_type": "stream",
     "text": [
      "{'role': 'Director - AI/ML Engineering', 'experience': '10+ years of experience across multiple roles in developing productionized code in software or data engineering, machine learning or a related field (experience delivering analytics and ML products preferred). 4+ years in a leadership or management role using Agile frameworks, processes, and team structures.', 'skills': 'ETL, ML, or analytics technologies such as Scikit-learn, Dask, Tensorflow, Kubeflow, Spark, EMR, or similar platforms and frameworks. Familiarity with open-source technologies and the impact of standardized platforms. Ability to make build/buy decisions in the area of Data Science, AI, & ML.', 'description': 'Nike is looking for a seasoned Engineering leader who can lead and grow teams of machine learning engineers, data scientists, and software architects to deliver scalable machine learning and artificial intelligence solutions to customers across our business.'}\n"
     ]
    }
   ],
   "source": [
    "from langchain_core.output_parsers import JsonOutputParser\n",
    "\n",
    "# Assuming `res.content` contains the scraped and parsed JSON response\n",
    "json_parser = JsonOutputParser()\n",
    "json_res = json_parser.parse(res.content)\n",
    "\n",
    "# Assuming the response is a list of job postings, access the first one\n",
    "job = json_res[0]  # Get the first job posting from the list\n",
    "\n",
    "# Now, format the job posting into the required structure\n",
    "formatted_job = {\n",
    "    'role': job['role'],\n",
    "    'experience': job['experience'],\n",
    "    'skills': job['skills'],\n",
    "    'description': job['description']\n",
    "}\n",
    "\n",
    "# Print the formatted job\n",
    "print(formatted_job)\n"
   ]
  },
  {
   "cell_type": "code",
   "execution_count": 39,
   "id": "115a16cc-fb95-40a1-ab26-c1fdcd19f27d",
   "metadata": {},
   "outputs": [
    {
     "data": {
      "text/plain": [
       "dict"
      ]
     },
     "execution_count": 39,
     "metadata": {},
     "output_type": "execute_result"
    }
   ],
   "source": [
    "type(formatted_job)"
   ]
  },
  {
   "cell_type": "code",
   "execution_count": 22,
   "id": "5859bf5d-7474-42ca-871c-8aa411b6a179",
   "metadata": {},
   "outputs": [
    {
     "data": {
      "text/html": [
       "<div>\n",
       "<style scoped>\n",
       "    .dataframe tbody tr th:only-of-type {\n",
       "        vertical-align: middle;\n",
       "    }\n",
       "\n",
       "    .dataframe tbody tr th {\n",
       "        vertical-align: top;\n",
       "    }\n",
       "\n",
       "    .dataframe thead th {\n",
       "        text-align: right;\n",
       "    }\n",
       "</style>\n",
       "<table border=\"1\" class=\"dataframe\">\n",
       "  <thead>\n",
       "    <tr style=\"text-align: right;\">\n",
       "      <th></th>\n",
       "      <th>Techstack</th>\n",
       "      <th>Links</th>\n",
       "    </tr>\n",
       "  </thead>\n",
       "  <tbody>\n",
       "    <tr>\n",
       "      <th>0</th>\n",
       "      <td>React, Node.js, MongoDB</td>\n",
       "      <td>https://example.com/react-portfolio</td>\n",
       "    </tr>\n",
       "    <tr>\n",
       "      <th>1</th>\n",
       "      <td>Angular,.NET, SQL Server</td>\n",
       "      <td>https://example.com/angular-portfolio</td>\n",
       "    </tr>\n",
       "    <tr>\n",
       "      <th>2</th>\n",
       "      <td>Vue.js, Ruby on Rails, PostgreSQL</td>\n",
       "      <td>https://example.com/vue-portfolio</td>\n",
       "    </tr>\n",
       "    <tr>\n",
       "      <th>3</th>\n",
       "      <td>Python, Django, MySQL</td>\n",
       "      <td>https://example.com/python-portfolio</td>\n",
       "    </tr>\n",
       "    <tr>\n",
       "      <th>4</th>\n",
       "      <td>Java, Spring Boot, Oracle</td>\n",
       "      <td>https://example.com/java-portfolio</td>\n",
       "    </tr>\n",
       "    <tr>\n",
       "      <th>5</th>\n",
       "      <td>Flutter, Firebase, GraphQL</td>\n",
       "      <td>https://example.com/flutter-portfolio</td>\n",
       "    </tr>\n",
       "    <tr>\n",
       "      <th>6</th>\n",
       "      <td>WordPress, PHP, MySQL</td>\n",
       "      <td>https://example.com/wordpress-portfolio</td>\n",
       "    </tr>\n",
       "    <tr>\n",
       "      <th>7</th>\n",
       "      <td>Magento, PHP, MySQL</td>\n",
       "      <td>https://example.com/magento-portfolio</td>\n",
       "    </tr>\n",
       "    <tr>\n",
       "      <th>8</th>\n",
       "      <td>React Native, Node.js, MongoDB</td>\n",
       "      <td>https://example.com/react-native-portfolio</td>\n",
       "    </tr>\n",
       "    <tr>\n",
       "      <th>9</th>\n",
       "      <td>iOS, Swift, Core Data</td>\n",
       "      <td>https://example.com/ios-portfolio</td>\n",
       "    </tr>\n",
       "    <tr>\n",
       "      <th>10</th>\n",
       "      <td>Android, Java, Room Persistence</td>\n",
       "      <td>https://example.com/android-portfolio</td>\n",
       "    </tr>\n",
       "    <tr>\n",
       "      <th>11</th>\n",
       "      <td>Kotlin, Android, Firebase</td>\n",
       "      <td>https://example.com/kotlin-android-portfolio</td>\n",
       "    </tr>\n",
       "    <tr>\n",
       "      <th>12</th>\n",
       "      <td>Android TV, Kotlin, Android NDK</td>\n",
       "      <td>https://example.com/android-tv-portfolio</td>\n",
       "    </tr>\n",
       "    <tr>\n",
       "      <th>13</th>\n",
       "      <td>iOS, Swift, ARKit</td>\n",
       "      <td>https://example.com/ios-ar-portfolio</td>\n",
       "    </tr>\n",
       "    <tr>\n",
       "      <th>14</th>\n",
       "      <td>Cross-platform, Xamarin, Azure</td>\n",
       "      <td>https://example.com/xamarin-portfolio</td>\n",
       "    </tr>\n",
       "    <tr>\n",
       "      <th>15</th>\n",
       "      <td>Backend, Kotlin, Spring Boot</td>\n",
       "      <td>https://example.com/kotlin-backend-portfolio</td>\n",
       "    </tr>\n",
       "    <tr>\n",
       "      <th>16</th>\n",
       "      <td>Frontend, TypeScript, Angular</td>\n",
       "      <td>https://example.com/typescript-frontend-portfolio</td>\n",
       "    </tr>\n",
       "    <tr>\n",
       "      <th>17</th>\n",
       "      <td>Full-stack, JavaScript, Express.js</td>\n",
       "      <td>https://example.com/full-stack-js-portfolio</td>\n",
       "    </tr>\n",
       "    <tr>\n",
       "      <th>18</th>\n",
       "      <td>Machine Learning, Python, TensorFlow</td>\n",
       "      <td>https://example.com/ml-python-portfolio</td>\n",
       "    </tr>\n",
       "    <tr>\n",
       "      <th>19</th>\n",
       "      <td>DevOps, Jenkins, Docker</td>\n",
       "      <td>https://example.com/devops-portfolio</td>\n",
       "    </tr>\n",
       "  </tbody>\n",
       "</table>\n",
       "</div>"
      ],
      "text/plain": [
       "                               Techstack  \\\n",
       "0                React, Node.js, MongoDB   \n",
       "1               Angular,.NET, SQL Server   \n",
       "2      Vue.js, Ruby on Rails, PostgreSQL   \n",
       "3                  Python, Django, MySQL   \n",
       "4              Java, Spring Boot, Oracle   \n",
       "5             Flutter, Firebase, GraphQL   \n",
       "6                  WordPress, PHP, MySQL   \n",
       "7                    Magento, PHP, MySQL   \n",
       "8         React Native, Node.js, MongoDB   \n",
       "9                  iOS, Swift, Core Data   \n",
       "10       Android, Java, Room Persistence   \n",
       "11             Kotlin, Android, Firebase   \n",
       "12       Android TV, Kotlin, Android NDK   \n",
       "13                     iOS, Swift, ARKit   \n",
       "14        Cross-platform, Xamarin, Azure   \n",
       "15          Backend, Kotlin, Spring Boot   \n",
       "16         Frontend, TypeScript, Angular   \n",
       "17    Full-stack, JavaScript, Express.js   \n",
       "18  Machine Learning, Python, TensorFlow   \n",
       "19               DevOps, Jenkins, Docker   \n",
       "\n",
       "                                                Links  \n",
       "0                 https://example.com/react-portfolio  \n",
       "1               https://example.com/angular-portfolio  \n",
       "2                   https://example.com/vue-portfolio  \n",
       "3                https://example.com/python-portfolio  \n",
       "4                  https://example.com/java-portfolio  \n",
       "5               https://example.com/flutter-portfolio  \n",
       "6             https://example.com/wordpress-portfolio  \n",
       "7               https://example.com/magento-portfolio  \n",
       "8          https://example.com/react-native-portfolio  \n",
       "9                   https://example.com/ios-portfolio  \n",
       "10              https://example.com/android-portfolio  \n",
       "11       https://example.com/kotlin-android-portfolio  \n",
       "12           https://example.com/android-tv-portfolio  \n",
       "13               https://example.com/ios-ar-portfolio  \n",
       "14              https://example.com/xamarin-portfolio  \n",
       "15       https://example.com/kotlin-backend-portfolio  \n",
       "16  https://example.com/typescript-frontend-portfolio  \n",
       "17        https://example.com/full-stack-js-portfolio  \n",
       "18            https://example.com/ml-python-portfolio  \n",
       "19               https://example.com/devops-portfolio  "
      ]
     },
     "execution_count": 22,
     "metadata": {},
     "output_type": "execute_result"
    }
   ],
   "source": [
    "import pandas as pd\n",
    "\n",
    "df = pd.read_csv(\"my_portfolio.csv\")\n",
    "df"
   ]
  },
  {
   "cell_type": "code",
   "execution_count": 23,
   "id": "cc55c6b6-6234-45f6-a738-304c041176df",
   "metadata": {},
   "outputs": [],
   "source": [
    "import uuid\n",
    "import chromadb\n",
    "\n",
    "client = chromadb.PersistentClient('vectorstore')\n",
    "collection = client.get_or_create_collection(name=\"portfolio\")\n",
    "\n",
    "if not collection.count():\n",
    "    for _, row in df.iterrows():\n",
    "        collection.add(documents=row[\"Techstack\"],\n",
    "                       metadatas={\"links\": row[\"Links\"]},\n",
    "                       ids=[str(uuid.uuid4())])"
   ]
  },
  {
   "cell_type": "code",
   "execution_count": 45,
   "id": "41f08277-efce-48cf-9213-cd3355e1330a",
   "metadata": {},
   "outputs": [
    {
     "data": {
      "text/plain": [
       "'ETL, ML, or analytics technologies such as Scikit-learn, Dask, Tensorflow, Kubeflow, Spark, EMR, or similar platforms and frameworks. Familiarity with open-source technologies and the impact of standardized platforms. Ability to make build/buy decisions in the area of Data Science, AI, & ML.'"
      ]
     },
     "execution_count": 45,
     "metadata": {},
     "output_type": "execute_result"
    }
   ],
   "source": [
    "job = formatted_job\n",
    "job['skills']"
   ]
  },
  {
   "cell_type": "code",
   "execution_count": 46,
   "id": "5b9d56c0-9907-48f8-bf51-1d2099c28a45",
   "metadata": {},
   "outputs": [
    {
     "data": {
      "text/plain": [
       "[[{'links': 'https://example.com/ml-python-portfolio'},\n",
       "  {'links': 'https://example.com/ios-ar-portfolio'}]]"
      ]
     },
     "execution_count": 46,
     "metadata": {},
     "output_type": "execute_result"
    }
   ],
   "source": [
    "links = collection.query(query_texts=job['skills'], n_results=2).get('metadatas', [])\n",
    "links"
   ]
  },
  {
   "cell_type": "code",
   "execution_count": 47,
   "id": "8b3cf16a-b2b8-4a11-9066-3a45325d4fc2",
   "metadata": {},
   "outputs": [
    {
     "name": "stdout",
     "output_type": "stream",
     "text": [
      "Subject: Expert AI/ML Engineering Solutions for Nike's Ambitious Projects\n",
      "\n",
      "Dear Hiring Manager,\n",
      "\n",
      "I came across the job description for the Director - AI/ML Engineering role at Nike, and I was impressed by the company's commitment to delivering scalable machine learning and artificial intelligence solutions. As a Business Development Executive at AtliQ, I believe our team can help Nike achieve its goals.\n",
      "\n",
      "AtliQ is an AI & Software Consulting company with a proven track record of empowering enterprises with tailored solutions. Our expertise in ETL, ML, and analytics technologies such as Scikit-learn, Dask, Tensorflow, and Kubeflow aligns perfectly with Nike's requirements. We have a deep understanding of open-source technologies and the impact of standardized platforms, which enables us to make informed build/buy decisions in the area of Data Science, AI, & ML.\n",
      "\n",
      "Our team of experienced machine learning engineers, data scientists, and software architects can help Nike deliver scalable machine learning and artificial intelligence solutions. We have a strong portfolio of successful projects, including our machine learning solutions built using Python, which can be viewed here: https://example.com/ml-python-portfolio.\n",
      "\n",
      "We would be delighted to discuss how AtliQ can support Nike's AI/ML engineering needs. Please let me know if you would like to schedule a call to explore this opportunity further.\n",
      "\n",
      "Best regards,\n",
      "\n",
      "Mohan\n",
      "Business Development Executive\n",
      "AtliQ\n",
      "[mohan@atliq.com](mailto:mohan@atliq.com)\n"
     ]
    }
   ],
   "source": [
    "prompt_email = PromptTemplate.from_template(\n",
    "        \"\"\"\n",
    "        ### JOB DESCRIPTION:\n",
    "        {job_description}\n",
    "        \n",
    "        ### INSTRUCTION:\n",
    "        You are Mohan, a business development executive at AtliQ. AtliQ is an AI & Software Consulting company dedicated to facilitating\n",
    "        the seamless integration of business processes through automated tools. \n",
    "        Over our experience, we have empowered numerous enterprises with tailored solutions, fostering scalability, \n",
    "        process optimization, cost reduction, and heightened overall efficiency. \n",
    "        Your job is to write a cold email to the client regarding the job mentioned above describing the capability of AtliQ \n",
    "        in fulfilling their needs.\n",
    "        Also add the most relevant ones from the following links to showcase Atliq's portfolio: {link_list}\n",
    "        Remember you are Mohan, BDE at AtliQ. \n",
    "        Do not provide a preamble.\n",
    "        ### EMAIL (NO PREAMBLE):\n",
    "        \n",
    "        \"\"\"\n",
    "        )\n",
    "\n",
    "chain_email = prompt_email | llm\n",
    "res = chain_email.invoke({\"job_description\": str(job), \"link_list\": links})\n",
    "print(res.content)"
   ]
  },
  {
   "cell_type": "code",
   "execution_count": null,
   "id": "ea08de3b-ed81-4dcc-8088-929c2bf5a802",
   "metadata": {},
   "outputs": [],
   "source": []
  }
 ],
 "metadata": {
  "kernelspec": {
   "display_name": "Python 3 (ipykernel)",
   "language": "python",
   "name": "python3"
  },
  "language_info": {
   "codemirror_mode": {
    "name": "ipython",
    "version": 3
   },
   "file_extension": ".py",
   "mimetype": "text/x-python",
   "name": "python",
   "nbconvert_exporter": "python",
   "pygments_lexer": "ipython3",
   "version": "3.11.10"
  }
 },
 "nbformat": 4,
 "nbformat_minor": 5
}
